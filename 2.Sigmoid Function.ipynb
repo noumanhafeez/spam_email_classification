{
 "cells": [
  {
   "cell_type": "code",
   "execution_count": 12,
   "id": "1341481f",
   "metadata": {},
   "outputs": [],
   "source": [
    "import numpy as np\n",
    "import matplotlib.pyplot as plt\n"
   ]
  },
  {
   "cell_type": "code",
   "execution_count": 13,
   "id": "05e51a27",
   "metadata": {},
   "outputs": [
    {
     "name": "stdout",
     "output_type": "stream",
     "text": [
      "[ 2.718  7.389 20.086]\n"
     ]
    }
   ],
   "source": [
    "# Let, input is an array\n",
    "input_array = np.array([1,2,3])\n",
    "# The exp is a function that takes a number as an input and return of that value number raised to the power of e where the\n",
    "# value of e is 2.718281828459045\n",
    "exp_array = np.exp(input_array)\n",
    "print(exp_array)"
   ]
  },
  {
   "cell_type": "code",
   "execution_count": 14,
   "id": "47fdba06",
   "metadata": {},
   "outputs": [
    {
     "name": "stdout",
     "output_type": "stream",
     "text": [
      "20.085536923187668\n"
     ]
    }
   ],
   "source": [
    "input_number = 3\n",
    "exp_number = np.exp(input_number)\n",
    "print(exp_number)"
   ]
  },
  {
   "cell_type": "markdown",
   "id": "52faf550",
   "metadata": {},
   "source": [
    "### Sigmoid Function"
   ]
  },
  {
   "cell_type": "code",
   "execution_count": 15,
   "id": "77170f8f",
   "metadata": {},
   "outputs": [],
   "source": [
    "def sigmoid(z):\n",
    "    g = 1/(1+np.exp(-z))\n",
    "    return g"
   ]
  },
  {
   "cell_type": "code",
   "execution_count": 16,
   "id": "0dc26d55",
   "metadata": {},
   "outputs": [
    {
     "name": "stdout",
     "output_type": "stream",
     "text": [
      "[-10  -9  -8  -7  -6  -5  -4  -3  -2  -1   0   1   2   3   4   5   6   7\n",
      "   8   9]\n"
     ]
    }
   ],
   "source": [
    "# Generate an array of evenly spaced values between -10 and 10\n",
    "z_tmp = np.arange(-10,10)\n",
    "print(z_tmp)"
   ]
  },
  {
   "cell_type": "code",
   "execution_count": 17,
   "id": "58f8e9e7",
   "metadata": {},
   "outputs": [
    {
     "name": "stdout",
     "output_type": "stream",
     "text": [
      "[4.540e-05 1.234e-04 3.354e-04 9.111e-04 2.473e-03 6.693e-03 1.799e-02\n",
      " 4.743e-02 1.192e-01 2.689e-01 5.000e-01 7.311e-01 8.808e-01 9.526e-01\n",
      " 9.820e-01 9.933e-01 9.975e-01 9.991e-01 9.997e-01 9.999e-01]\n"
     ]
    }
   ],
   "source": [
    "# Use the function sigmoid to get sigmoid values\n",
    "y = sigmoid(z_tmp)\n",
    "print(y)"
   ]
  },
  {
   "cell_type": "code",
   "execution_count": 18,
   "id": "613462b4",
   "metadata": {},
   "outputs": [
    {
     "name": "stdout",
     "output_type": "stream",
     "text": [
      "Input(z), Output(sigmoid(z))\n",
      "[[-1.000e+01  4.540e-05]\n",
      " [-9.000e+00  1.234e-04]\n",
      " [-8.000e+00  3.354e-04]\n",
      " [-7.000e+00  9.111e-04]\n",
      " [-6.000e+00  2.473e-03]\n",
      " [-5.000e+00  6.693e-03]\n",
      " [-4.000e+00  1.799e-02]\n",
      " [-3.000e+00  4.743e-02]\n",
      " [-2.000e+00  1.192e-01]\n",
      " [-1.000e+00  2.689e-01]\n",
      " [ 0.000e+00  5.000e-01]\n",
      " [ 1.000e+00  7.311e-01]\n",
      " [ 2.000e+00  8.808e-01]\n",
      " [ 3.000e+00  9.526e-01]\n",
      " [ 4.000e+00  9.820e-01]\n",
      " [ 5.000e+00  9.933e-01]\n",
      " [ 6.000e+00  9.975e-01]\n",
      " [ 7.000e+00  9.991e-01]\n",
      " [ 8.000e+00  9.997e-01]\n",
      " [ 9.000e+00  9.999e-01]]\n"
     ]
    }
   ],
   "source": [
    "# Code for pretty prining both arrays in together\n",
    "np.set_printoptions(precision=3)\n",
    "print(\"Input(z), Output(sigmoid(z))\")\n",
    "print(np.c_[z_tmp,y])"
   ]
  },
  {
   "cell_type": "code",
   "execution_count": 19,
   "id": "d870eec1",
   "metadata": {},
   "outputs": [
    {
     "ename": "NameError",
     "evalue": "name 'draw_vthresh' is not defined",
     "output_type": "error",
     "traceback": [
      "\u001b[1;31m---------------------------------------------------------------------------\u001b[0m",
      "\u001b[1;31mNameError\u001b[0m                                 Traceback (most recent call last)",
      "Input \u001b[1;32mIn [19]\u001b[0m, in \u001b[0;36m<cell line: 6>\u001b[1;34m()\u001b[0m\n\u001b[0;32m      4\u001b[0m ax\u001b[38;5;241m.\u001b[39mset_ylabel(\u001b[38;5;124m'\u001b[39m\u001b[38;5;124msigmoid(z)\u001b[39m\u001b[38;5;124m'\u001b[39m)\n\u001b[0;32m      5\u001b[0m ax\u001b[38;5;241m.\u001b[39mset_xlabel(\u001b[38;5;124m'\u001b[39m\u001b[38;5;124mz\u001b[39m\u001b[38;5;124m'\u001b[39m)\n\u001b[1;32m----> 6\u001b[0m \u001b[43mdraw_vthresh\u001b[49m(ax,\u001b[38;5;241m0\u001b[39m)\n",
      "\u001b[1;31mNameError\u001b[0m: name 'draw_vthresh' is not defined"
     ]
    },
    {
     "data": {
      "image/png": "[encoded data removed]",
      "text/plain": [
       "<Figure size 360x216 with 1 Axes>"
      ]
     },
     "metadata": {
      "needs_background": "light"
     },
     "output_type": "display_data"
    }
   ],
   "source": [
    "fig,ax = plt.subplots(1,1,figsize=(5,3))\n",
    "ax.plot(z_tmp,y,c='b')\n",
    "ax.set_title('Sigmoid Function')\n",
    "ax.set_ylabel('sigmoid(z)')\n",
    "ax.set_xlabel('z')\n",
    "draw_vthresh(ax,0)"
   ]
  },
  {
   "cell_type": "markdown",
   "id": "035e8420",
   "metadata": {},
   "source": [
    "### Let's apply logistic regression"
   ]
  },
  {
   "cell_type": "code",
   "execution_count": 20,
   "id": "62d5ae39",
   "metadata": {},
   "outputs": [
    {
     "name": "stdout",
     "output_type": "stream",
     "text": [
      "[0.]\n"
     ]
    }
   ],
   "source": [
    "x_train = np.array([0,1,2,3,4,5])\n",
    "y_train = np.array([0,0,0,1,1,1])\n",
    "\n",
    "w_in = np.zeros((1))\n",
    "b_in = 0\n",
    "print(w_in)"
   ]
  },
  {
   "cell_type": "code",
   "execution_count": 22,
   "id": "c858f59b",
   "metadata": {},
   "outputs": [
    {
     "ename": "ModuleNotFoundError",
     "evalue": "No module named 'plt_one_addpt_onclick'",
     "output_type": "error",
     "traceback": [
      "\u001b[1;31m---------------------------------------------------------------------------\u001b[0m",
      "\u001b[1;31mModuleNotFoundError\u001b[0m                       Traceback (most recent call last)",
      "Input \u001b[1;32mIn [22]\u001b[0m, in \u001b[0;36m<cell line: 1>\u001b[1;34m()\u001b[0m\n\u001b[1;32m----> 1\u001b[0m \u001b[38;5;28;01mfrom\u001b[39;00m \u001b[38;5;21;01mplt_one_addpt_onclick\u001b[39;00m \u001b[38;5;28;01mimport\u001b[39;00m plt_one_addpt_onclick\n",
      "\u001b[1;31mModuleNotFoundError\u001b[0m: No module named 'plt_one_addpt_onclick'"
     ]
    }
   ],
   "source": [
    "from plt_one_addpt_onclick import plt_one_addpt_onclick"
   ]
  },
  {
   "cell_type": "code",
   "execution_count": null,
   "id": "d8eeafdf",
   "metadata": {},
   "outputs": [],
   "source": [
    "plt.close('all')\n",
    "addpt = plt_one_addpt_onclick(x_train,y_train,w_in,b_in,logistic=True)"
   ]
  }
 ],
 "metadata": {
  "kernelspec": {
   "display_name": "Python 3 (ipykernel)",
   "language": "python",
   "name": "python3"
  },
  "language_info": {
   "codemirror_mode": {
    "name": "ipython",
    "version": 3
   },
   "file_extension": ".py",
   "mimetype": "text/x-python",
   "name": "python",
   "nbconvert_exporter": "python",
   "pygments_lexer": "ipython3",
   "version": "3.9.12"
  }
 },
 "nbformat": 4,
 "nbformat_minor": 5
}
